{
  "cells": [
    {
      "cell_type": "code",
      "execution_count": null,
      "metadata": {
        "colab": {
          "base_uri": "https://localhost:8080/"
        },
        "id": "jpgAfFjOQnZf",
        "outputId": "6c77e197-3162-4ceb-ea02-6b9d4003d074"
      },
      "outputs": [
        {
          "data": {
            "text/plain": [
              "<torch._C.Generator at 0x79571c94cd70>"
            ]
          },
          "execution_count": 1,
          "metadata": {},
          "output_type": "execute_result"
        }
      ],
      "source": [
        "import torch\n",
        "import torch.nn as nn\n",
        "from torch.nn import init\n",
        "device = 'cuda' if torch.cuda.is_available() else 'cpu'\n",
        "torch.manual_seed(0)"
      ]
    },
    {
      "cell_type": "code",
      "execution_count": null,
      "metadata": {
        "id": "nNxHN5Ffe4lI"
      },
      "outputs": [],
      "source": [
        "with open(\"/content/AeCa\",'r',encoding='UTF-8') as f:\n",
        "    text=f.read()\n",
        "f.close()"
      ]
    },
    {
      "cell_type": "code",
      "execution_count": null,
      "metadata": {
        "colab": {
          "base_uri": "https://localhost:8080/"
        },
        "id": "eEfAtaGRfFTT",
        "outputId": "3964d3d3-fe75-4f0b-e409-148db202992a"
      },
      "outputs": [
        {
          "name": "stdout",
          "output_type": "stream",
          "text": [
            "['A', 'C', 'G', 'T'] 4\n"
          ]
        }
      ],
      "source": [
        "chars=sorted(list(set(text)))\n",
        "vocab_size=len(chars)\n",
        "print(chars,vocab_size)"
      ]
    },
    {
      "cell_type": "code",
      "execution_count": null,
      "metadata": {
        "colab": {
          "base_uri": "https://localhost:8080/"
        },
        "id": "wd-5SQ47fT5M",
        "outputId": "8dc0fd22-95ba-4dea-a0ce-ba505f5fd5f4"
      },
      "outputs": [
        {
          "data": {
            "text/plain": [
              "({'A': 0, 'C': 1, 'G': 2, 'T': 3}, {0: 'A', 1: 'C', 2: 'G', 3: 'T'})"
            ]
          },
          "execution_count": 4,
          "metadata": {},
          "output_type": "execute_result"
        }
      ],
      "source": [
        "stoi={s:i for i,s in enumerate(chars)}\n",
        "itos={i:s for i,s in enumerate(stoi)}\n",
        "stoi,itos"
      ]
    },
    {
      "cell_type": "code",
      "execution_count": null,
      "metadata": {
        "colab": {
          "base_uri": "https://localhost:8080/"
        },
        "id": "7ao9WvW9fVh4",
        "outputId": "14f71aad-9075-46d3-d2c0-403363a5c723"
      },
      "outputs": [
        {
          "data": {
            "text/plain": [
              "tensor([2, 1, 1,  ..., 2, 2, 1])"
            ]
          },
          "execution_count": 5,
          "metadata": {},
          "output_type": "execute_result"
        }
      ],
      "source": [
        "encode=lambda word:[stoi[s] for s in word]\n",
        "decode=lambda num: ''.join([itos[i] for i in num])\n",
        "data=torch.tensor(encode(text),dtype=torch.long)\n",
        "data"
      ]
    },
    {
      "cell_type": "code",
      "execution_count": null,
      "metadata": {
        "colab": {
          "base_uri": "https://localhost:8080/"
        },
        "id": "JKVRgeelhm9p",
        "outputId": "b79b3117-b7f2-480b-82c6-4aca044ae751"
      },
      "outputs": [
        {
          "data": {
            "text/plain": [
              "tensor(2)"
            ]
          },
          "execution_count": 6,
          "metadata": {},
          "output_type": "execute_result"
        }
      ],
      "source": [
        "data[0]"
      ]
    },
    {
      "cell_type": "code",
      "execution_count": null,
      "metadata": {
        "colab": {
          "base_uri": "https://localhost:8080/"
        },
        "id": "Ul69G6Jnf6wx",
        "outputId": "bf63da92-d0be-4903-fc0b-b9588750e050"
      },
      "outputs": [
        {
          "name": "stdout",
          "output_type": "stream",
          "text": [
            "torch.Size([1590985, 64])\n",
            "torch.Size([1590985])\n"
          ]
        }
      ],
      "source": [
        "def cut_sequence(data, window_size):\n",
        "  X,Y = [],[]\n",
        "  for i in range(0,len(data)-window_size):\n",
        "    X.append(data[i:i+window_size])\n",
        "    Y.append(data[i+window_size])\n",
        "  return X,Y\n",
        "\n",
        "window_size = 64\n",
        "X_list, Y_list = cut_sequence(data, window_size)\n",
        "\n",
        "X = torch.stack(X_list)\n",
        "Y = torch.tensor(Y_list)\n",
        "\n",
        "print(X.shape)\n",
        "print(Y.shape)"
      ]
    },
    {
      "cell_type": "code",
      "execution_count": null,
      "metadata": {
        "id": "MjCORBjyijpe"
      },
      "outputs": [],
      "source": [
        "import numpy as np\n",
        "\n",
        "one_hot_mapping = {\n",
        "    0:[1,0,0,0],\n",
        "    1:[0,1,0,0],\n",
        "    2:[0,0,1,0],\n",
        "    3:[0,0,0,1]\n",
        "}\n",
        "def OneHot(arr,one_hot_mapping):\n",
        "  if arr.ndim == 2:\n",
        "    result = np.array([[one_hot_mapping[val.item()] for val in row] for row in arr])\n",
        "    return result\n",
        "  else:\n",
        "    result = np.array([one_hot_mapping[val.item()] for val in arr])\n",
        "    return result"
      ]
    },
    {
      "cell_type": "code",
      "execution_count": null,
      "metadata": {
        "id": "K3iUNIFrloUS"
      },
      "outputs": [],
      "source": [
        "X = torch.tensor(OneHot(X,one_hot_mapping))\n",
        "Y = torch.tensor(OneHot(Y,one_hot_mapping))"
      ]
    },
    {
      "cell_type": "code",
      "execution_count": null,
      "metadata": {
        "colab": {
          "base_uri": "https://localhost:8080/"
        },
        "id": "sEv_KR2vlriT",
        "outputId": "7606bd2e-a079-4e09-9f05-8f4710e62f56"
      },
      "outputs": [
        {
          "name": "stdout",
          "output_type": "stream",
          "text": [
            "torch.Size([1590985, 64, 4])\n",
            "torch.Size([1590985, 4])\n"
          ]
        }
      ],
      "source": [
        "print(X.shape)\n",
        "print(Y.shape)"
      ]
    },
    {
      "cell_type": "code",
      "execution_count": null,
      "metadata": {
        "id": "xvuZHFAe-AJY"
      },
      "outputs": [],
      "source": [
        "import torch.nn.functional as F\n",
        "class DNACoder(nn.Module):\n",
        "    def __init__(self, input_dim=4, window_size=64, hidden_dim=256, num_heads=8, fc_dim=128):\n",
        "        super().__init__()\n",
        "\n",
        "        self.conv1 = nn.Conv1d(in_channels=input_dim, out_channels=64, kernel_size=3)\n",
        "        self.bn1 = nn.BatchNorm1d(num_features=64)\n",
        "        self.pool1 = nn.MaxPool1d(kernel_size=2)\n",
        "\n",
        "        self.conv2 = nn.Conv1d(in_channels=64, out_channels=128, kernel_size=3, padding=1)\n",
        "        self.bn2 = nn.BatchNorm1d(num_features=128)\n",
        "        self.pool2 = nn.MaxPool1d(kernel_size=2)\n",
        "\n",
        "        self.lstm = nn.LSTM(input_size=128, hidden_size=hidden_dim, batch_first=True, bidirectional=True)\n",
        "\n",
        "        self.attn = nn.MultiheadAttention(embed_dim=hidden_dim*2, num_heads=num_heads, batch_first=True)\n",
        "\n",
        "        self.dropout = nn.Dropout(0.3)\n",
        "        self.fc1 = nn.Linear(hidden_dim*2, fc_dim)\n",
        "        self.fc_out = nn.Linear(fc_dim, 4)\n",
        "\n",
        "    def forward(self, x):\n",
        "        x = x.permute(0, 2, 1)  # (B, 4, seq_len)\n",
        "        x = F.relu(self.bn1(self.conv1(x)))\n",
        "        x = self.pool1(x)\n",
        "        x = F.relu(self.bn2(self.conv2(x)))\n",
        "        x = self.pool2(x)\n",
        "        x = x.permute(0, 2, 1)  # (B, seq_len, 128)\n",
        "\n",
        "        lstm_out, _ = self.lstm(x)\n",
        "        attn_out, _ = self.attn(lstm_out, lstm_out, lstm_out)\n",
        "        x = self.dropout(F.relu(self.fc1(attn_out[:, -1, :])))\n",
        "        out = self.fc_out(x)\n",
        "        return out\n"
      ]
    },
    {
      "cell_type": "code",
      "execution_count": null,
      "metadata": {
        "id": "WM7yn81IZcq4"
      },
      "outputs": [],
      "source": [
        "from torch.utils.data import TensorDataset, DataLoader\n",
        "\n",
        "dataset = TensorDataset(X, Y.argmax(dim=1))\n",
        "\n",
        "# Create a DataLoader (loads in small batches)\n",
        "loader = DataLoader(dataset, batch_size=256, shuffle=True, pin_memory=True)"
      ]
    },
    {
      "cell_type": "code",
      "execution_count": null,
      "metadata": {
        "colab": {
          "base_uri": "https://localhost:8080/"
        },
        "id": "49BALJXObWda",
        "outputId": "0bb73b3b-3521-4f41-a609-29f58d178cc6"
      },
      "outputs": [
        {
          "name": "stdout",
          "output_type": "stream",
          "text": [
            "torch.Size([256, 64, 4])\n",
            "torch.Size([256])\n"
          ]
        }
      ],
      "source": [
        "for xb, yb in loader:\n",
        "    print(xb.shape)\n",
        "    print(yb.shape)\n",
        "    break"
      ]
    },
    {
      "cell_type": "code",
      "execution_count": null,
      "metadata": {
        "colab": {
          "base_uri": "https://localhost:8080/"
        },
        "id": "a1eQqBFJb_wU",
        "outputId": "ece6aaab-d32f-4acb-8463-594edca47b5f"
      },
      "outputs": [
        {
          "name": "stdout",
          "output_type": "stream",
          "text": [
            "torch.Size([256, 4])\n",
            "tensor([[ 0.0600, -0.0447, -0.0008, -0.0790],\n",
            "        [ 0.0586, -0.0540, -0.0155, -0.0720],\n",
            "        [ 0.0636, -0.0547,  0.0027, -0.0777],\n",
            "        ...,\n",
            "        [ 0.0575, -0.0525,  0.0066, -0.0689],\n",
            "        [ 0.0476, -0.0622, -0.0154, -0.0600],\n",
            "        [ 0.0489, -0.0573, -0.0130, -0.0731]], grad_fn=<AddmmBackward0>)\n",
            "torch.Size([256])\n",
            "tensor([2, 1, 3, 2, 1, 1, 2, 0, 0, 1, 2, 2, 2, 2, 0, 1, 1, 0, 1, 1, 3, 2, 3, 1,\n",
            "        2, 3, 2, 1, 1, 1, 3, 1, 3, 2, 3, 0, 3, 2, 3, 2, 1, 3, 1, 2, 1, 2, 0, 0,\n",
            "        0, 3, 1, 2, 0, 1, 3, 2, 1, 1, 0, 2, 1, 2, 2, 1, 1, 1, 2, 0, 1, 2, 2, 0,\n",
            "        2, 3, 0, 2, 2, 3, 1, 1, 0, 2, 1, 2, 1, 0, 0, 1, 2, 1, 2, 2, 2, 1, 2, 1,\n",
            "        1, 3, 1, 3, 2, 2, 3, 2, 2, 2, 2, 3, 2, 3, 0, 3, 0, 2, 2, 0, 1, 1, 0, 0,\n",
            "        0, 2, 2, 3, 2, 3, 2, 0, 3, 3, 0, 3, 1, 2, 0, 2, 3, 1, 3, 2, 0, 1, 0, 3,\n",
            "        2, 0, 1, 3, 1, 2, 2, 1, 1, 3, 2, 0, 0, 1, 1, 2, 0, 0, 1, 0, 1, 0, 0, 2,\n",
            "        0, 3, 2, 3, 0, 2, 3, 1, 2, 0, 1, 1, 3, 2, 0, 3, 1, 1, 3, 2, 3, 2, 1, 3,\n",
            "        1, 2, 1, 1, 0, 2, 2, 3, 2, 3, 0, 2, 2, 1, 2, 3, 1, 1, 2, 0, 2, 0, 3, 0,\n",
            "        0, 0, 2, 2, 3, 1, 3, 1, 1, 2, 2, 1, 1, 0, 3, 2, 1, 3, 3, 0, 1, 3, 2, 0,\n",
            "        2, 2, 2, 1, 0, 1, 2, 2, 3, 1, 1, 2, 2, 2, 2, 2])\n",
            "torch.Size([256])\n",
            "tensor([0, 0, 0, 0, 0, 0, 0, 0, 0, 0, 0, 0, 0, 0, 0, 0, 0, 0, 0, 0, 0, 0, 0, 0,\n",
            "        0, 0, 0, 0, 0, 0, 0, 0, 0, 0, 0, 0, 0, 0, 0, 0, 0, 0, 0, 0, 0, 0, 0, 0,\n",
            "        0, 0, 0, 0, 0, 0, 0, 0, 0, 0, 0, 0, 0, 0, 0, 0, 0, 0, 0, 0, 0, 0, 0, 0,\n",
            "        0, 0, 0, 0, 0, 0, 0, 0, 0, 0, 0, 0, 0, 0, 0, 0, 0, 0, 0, 0, 0, 0, 0, 0,\n",
            "        0, 0, 0, 0, 0, 0, 0, 0, 0, 0, 0, 0, 0, 0, 0, 0, 0, 0, 0, 0, 0, 0, 0, 0,\n",
            "        0, 0, 0, 0, 0, 0, 0, 0, 0, 0, 0, 0, 0, 0, 0, 0, 0, 0, 0, 0, 0, 0, 0, 0,\n",
            "        0, 0, 0, 0, 0, 0, 0, 0, 0, 0, 0, 0, 0, 0, 0, 0, 0, 0, 0, 0, 0, 0, 0, 0,\n",
            "        0, 0, 0, 0, 0, 0, 0, 0, 0, 0, 0, 0, 0, 0, 0, 0, 0, 0, 0, 0, 0, 0, 0, 0,\n",
            "        0, 0, 0, 0, 0, 0, 0, 0, 0, 0, 0, 0, 0, 0, 0, 0, 0, 0, 0, 0, 0, 0, 0, 0,\n",
            "        0, 0, 0, 0, 0, 0, 0, 0, 0, 0, 0, 0, 0, 0, 0, 0, 0, 0, 0, 0, 0, 0, 0, 0,\n",
            "        0, 0, 0, 0, 0, 0, 0, 0, 0, 0, 0, 0, 0, 0, 0, 0])\n"
          ]
        }
      ],
      "source": [
        "#Just testing for my convenience\n",
        "model = DNACoder(input_dim=4, window_size=window_size)\n",
        "outputs = model(xb.float())\n",
        "print(outputs.shape)\n",
        "print(outputs)\n",
        "print(yb.shape)\n",
        "print(yb)\n",
        "preds = torch.argmax(outputs, dim=1)\n",
        "print(preds.shape)"
      ]
    },
    {
      "cell_type": "code",
      "execution_count": null,
      "metadata": {
        "colab": {
          "base_uri": "https://localhost:8080/"
        },
        "id": "1be1975f",
        "outputId": "6ac30aca-7b5f-4f34-86c6-c13c1ff767d3"
      },
      "outputs": [
        {
          "name": "stdout",
          "output_type": "stream",
          "text": [
            "Epoch [1/40], Loss: 1.3226, Accuracy: 36.33%\n",
            "Epoch [6/40], Loss: 1.2728, Accuracy: 40.41%\n",
            "Epoch [11/40], Loss: 1.2570, Accuracy: 41.51%\n",
            "Epoch [16/40], Loss: 1.2327, Accuracy: 42.96%\n",
            "Epoch [21/40], Loss: 1.1932, Accuracy: 45.20%\n",
            "Epoch [26/40], Loss: 1.1396, Accuracy: 47.76%\n",
            "Epoch [31/40], Loss: 1.0771, Accuracy: 50.49%\n",
            "Epoch [36/40], Loss: 1.0112, Accuracy: 52.99%\n"
          ]
        }
      ],
      "source": [
        "model = DNACoder(input_dim=4, window_size=window_size).to(device)\n",
        "optimizer = torch.optim.Adam(model.parameters(), lr=1e-4)\n",
        "criterion = nn.CrossEntropyLoss()\n",
        "\n",
        "for epoch in range(40):\n",
        "    total_loss = 0.0\n",
        "    correct = 0\n",
        "    total = 0\n",
        "\n",
        "    model.train()\n",
        "    for xb, yb in loader:\n",
        "        xb, yb = xb.to(device), yb.to(device)\n",
        "        optimizer.zero_grad()\n",
        "\n",
        "        outputs = model(xb.float())\n",
        "        loss = criterion(outputs, yb)\n",
        "        loss.backward()\n",
        "        optimizer.step()\n",
        "\n",
        "        total_loss += loss.item()\n",
        "        preds = torch.argmax(outputs, dim=1)   # predicted class index\n",
        "        correct += (preds == yb).sum().item()\n",
        "        total += yb.size(0)\n",
        "\n",
        "    epoch_loss = total_loss / len(loader)\n",
        "    epoch_acc = correct / total * 100\n",
        "    if epoch % 5 == 0:\n",
        "        print(f\"Epoch [{epoch+1}/40], Loss: {epoch_loss:.4f}, Accuracy: {epoch_acc:.2f}%\")"
      ]
    },
    {
      "cell_type": "code",
      "execution_count": null,
      "metadata": {
        "id": "uu8URO2aakMe"
      },
      "outputs": [],
      "source": [
        "torch.save(model.state_dict(), 'model.pth')"
      ]
    },
    {
      "cell_type": "code",
      "execution_count": null,
      "metadata": {
        "colab": {
          "base_uri": "https://localhost:8080/"
        },
        "id": "74fef23c",
        "outputId": "71dcffd1-e631-4c10-cc81-3a4438521250"
      },
      "outputs": [
        {
          "name": "stdout",
          "output_type": "stream",
          "text": [
            "Model loaded successfully!\n"
          ]
        }
      ],
      "source": [
        "loaded_model = DNACoder(input_dim=4, window_size=window_size).to(device)\n",
        "loaded_model.load_state_dict(torch.load('model.pth'))\n",
        "loaded_model.eval()\n",
        "\n",
        "print(\"Model loaded successfully!\")"
      ]
    }
  ],
  "metadata": {
    "colab": {
      "gpuType": "T4",
      "provenance": []
    },
    "kernelspec": {
      "display_name": "Python 3",
      "name": "python3"
    },
    "language_info": {
      "name": "python"
    }
  },
  "nbformat": 4,
  "nbformat_minor": 0
}
