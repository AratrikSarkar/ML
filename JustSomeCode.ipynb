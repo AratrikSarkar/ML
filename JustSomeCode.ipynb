{
 "cells": [
  {
   "cell_type": "code",
   "execution_count": 32,
   "id": "70d8782b",
   "metadata": {},
   "outputs": [
    {
     "data": {
      "text/plain": [
       "<torch._C.Generator at 0x1904518c330>"
      ]
     },
     "execution_count": 32,
     "metadata": {},
     "output_type": "execute_result"
    }
   ],
   "source": [
    "import torch\n",
    "import torch.nn as nn\n",
    "device = 'cuda' if torch.cuda.is_available() else 'cpu'\n",
    "torch.manual_seed(0)\n",
    "#import torch.nn as torch_nn     # refers to PyTorch's official functions"
   ]
  },
  {
   "cell_type": "code",
   "execution_count": 33,
   "id": "fe3127d1",
   "metadata": {
    "ExecuteTime": {
     "end_time": "2025-07-29T15:16:51.402497Z",
     "start_time": "2025-07-29T15:16:51.397497Z"
    }
   },
   "outputs": [],
   "source": [
    "with open(\"AeCa.txt\",'r',encoding='UTF-8') as f:\n",
    "    text=f.read()\n",
    "f.close()"
   ]
  },
  {
   "cell_type": "code",
   "execution_count": 34,
   "id": "cc199cc5",
   "metadata": {
    "ExecuteTime": {
     "end_time": "2025-07-29T15:16:51.417542Z",
     "start_time": "2025-07-29T15:16:51.413502Z"
    }
   },
   "outputs": [
    {
     "name": "stdout",
     "output_type": "stream",
     "text": [
      "Length of the dataset of characters:  1591049\n"
     ]
    }
   ],
   "source": [
    "print(\"Length of the dataset of characters: \",len(text))                                          #Total Length of the text file"
   ]
  },
  {
   "cell_type": "code",
   "execution_count": 35,
   "id": "5479fd29",
   "metadata": {
    "ExecuteTime": {
     "end_time": "2025-07-29T15:16:51.460373Z",
     "start_time": "2025-07-29T15:16:51.442339Z"
    }
   },
   "outputs": [
    {
     "name": "stdout",
     "output_type": "stream",
     "text": [
      "['A', 'C', 'G', 'T'] 4\n"
     ]
    }
   ],
   "source": [
    "chars=sorted(list(set(text)))                                #Total number of different characters in the DNA sequence\n",
    "vocab_size=len(chars)\n",
    "print(chars,vocab_size)"
   ]
  },
  {
   "cell_type": "code",
   "execution_count": 36,
   "id": "f0b12e8e",
   "metadata": {
    "ExecuteTime": {
     "end_time": "2025-07-29T15:16:51.474549Z",
     "start_time": "2025-07-29T15:16:51.470531Z"
    }
   },
   "outputs": [
    {
     "data": {
      "text/plain": [
       "({'A': 0, 'C': 1, 'G': 2, 'T': 3}, {0: 'A', 1: 'C', 2: 'G', 3: 'T'})"
      ]
     },
     "execution_count": 36,
     "metadata": {},
     "output_type": "execute_result"
    }
   ],
   "source": [
    "stoi={s:i for i,s in enumerate(chars)}\n",
    "itos={i:s for i,s in enumerate(stoi)}\n",
    "stoi,itos"
   ]
  },
  {
   "cell_type": "code",
   "execution_count": 37,
   "id": "a46dd5da",
   "metadata": {
    "ExecuteTime": {
     "end_time": "2025-07-29T15:16:51.498887Z",
     "start_time": "2025-07-29T15:16:51.495678Z"
    }
   },
   "outputs": [
    {
     "name": "stdout",
     "output_type": "stream",
     "text": [
      "[2, 3, 3, 0] GTTA\n"
     ]
    }
   ],
   "source": [
    "encode=lambda word:[stoi[s] for s in word]\n",
    "decode=lambda num: ''.join([itos[i] for i in num])\n",
    "\n",
    "d_en=encode(\"GTTA\")\n",
    "d_de=decode(d_en)\n",
    "print(d_en,d_de)"
   ]
  },
  {
   "cell_type": "code",
   "execution_count": 38,
   "id": "02b0eb3a",
   "metadata": {
    "ExecuteTime": {
     "end_time": "2025-07-29T15:16:51.669136Z",
     "start_time": "2025-07-29T15:16:51.530421Z"
    }
   },
   "outputs": [
    {
     "name": "stdout",
     "output_type": "stream",
     "text": [
      "torch.Size([1591049]) torch.int64\n"
     ]
    }
   ],
   "source": [
    "data=torch.tensor(encode(text),dtype=torch.long)\n",
    "print(data.shape,data.dtype)"
   ]
  },
  {
   "cell_type": "code",
   "execution_count": 39,
   "id": "08e95ebd",
   "metadata": {
    "ExecuteTime": {
     "end_time": "2025-07-29T15:16:51.683261Z",
     "start_time": "2025-07-29T15:16:51.679215Z"
    }
   },
   "outputs": [
    {
     "name": "stdout",
     "output_type": "stream",
     "text": [
      "torch.Size([1272839]) torch.Size([159105]) torch.Size([159105])\n"
     ]
    }
   ],
   "source": [
    "l=int(0.8*data.shape[0])\n",
    "h=int(0.9*data.shape[0])\n",
    "train_data=data[:l]\n",
    "val_data=data[l:h]\n",
    "test_data=data[h:]\n",
    "print(train_data.shape,val_data.shape,test_data.shape)"
   ]
  },
  {
   "cell_type": "code",
   "execution_count": 40,
   "id": "94956747",
   "metadata": {
    "ExecuteTime": {
     "end_time": "2025-07-29T15:16:51.705307Z",
     "start_time": "2025-07-29T15:16:51.702118Z"
    }
   },
   "outputs": [
    {
     "data": {
      "text/plain": [
       "tensor([2, 1, 1, 2, 1, 1, 1, 1, 1])"
      ]
     },
     "execution_count": 40,
     "metadata": {},
     "output_type": "execute_result"
    }
   ],
   "source": [
    "block_size=8\n",
    "train_data[:block_size+1]"
   ]
  },
  {
   "cell_type": "code",
   "execution_count": 41,
   "id": "8fc8cb99",
   "metadata": {
    "ExecuteTime": {
     "end_time": "2025-07-29T15:16:51.752540Z",
     "start_time": "2025-07-29T15:16:51.748534Z"
    }
   },
   "outputs": [
    {
     "name": "stdout",
     "output_type": "stream",
     "text": [
      "In the context of tensor([2]) the target is 1\n",
      "In the context of tensor([2, 1]) the target is 1\n",
      "In the context of tensor([2, 1, 1]) the target is 2\n",
      "In the context of tensor([2, 1, 1, 2]) the target is 1\n",
      "In the context of tensor([2, 1, 1, 2, 1]) the target is 1\n",
      "In the context of tensor([2, 1, 1, 2, 1, 1]) the target is 1\n",
      "In the context of tensor([2, 1, 1, 2, 1, 1, 1]) the target is 1\n",
      "In the context of tensor([2, 1, 1, 2, 1, 1, 1, 1]) the target is 1\n"
     ]
    }
   ],
   "source": [
    "x=train_data[:block_size]\n",
    "y=train_data[1:block_size+1]\n",
    "for t in range (block_size):\n",
    "    context=x[:t+1]\n",
    "    target=y[t]\n",
    "    print(f\"In the context of {context} the target is {target}\")"
   ]
  },
  {
   "cell_type": "code",
   "execution_count": 42,
   "id": "956974e7",
   "metadata": {
    "ExecuteTime": {
     "end_time": "2025-07-29T15:16:51.796757Z",
     "start_time": "2025-07-29T15:16:51.793251Z"
    }
   },
   "outputs": [],
   "source": [
    "class Linear(nn.Module):\n",
    "    def __init__(self,fan_in,fan_out,bias=False):\n",
    "        super().__init__()\n",
    "        self.W=nn.Parameter(torch.randn((fan_out,fan_in)))\n",
    "        self.b=nn.Parameter(torch.randn(fan_out)) if bias==True else None\n",
    "    \n",
    "    def forward(self, x):\n",
    "        #print(self.W.shape,x.shape)\n",
    "        out= x @ self.W.T\n",
    "        if self.b is not None:\n",
    "            out=out+self.b\n",
    "        return  out"
   ]
  },
  {
   "cell_type": "code",
   "execution_count": 43,
   "id": "f2f3773a",
   "metadata": {},
   "outputs": [],
   "source": [
    "class ReLu(nn.Module):\n",
    "    def __init__(self,inplace=False):\n",
    "        super().__init__()\n",
    "        self.inplace=inplace\n",
    "\n",
    "    def forward(self,x):\n",
    "        if(self.inplace):\n",
    "            return torch.clamp_(x,min=0.0)      # modifies x\n",
    "        else:\n",
    "            return torch.clamp(x,min=0.0)       # x remains unchanged"
   ]
  },
  {
   "cell_type": "code",
   "execution_count": 44,
   "id": "6ed57241",
   "metadata": {},
   "outputs": [],
   "source": [
    "class Sigmoid(nn.Module):\n",
    "    def __init__(self):\n",
    "        super().__init__()\n",
    "        \n",
    "    def forward(self, x):\n",
    "        out=torch.empty_like(x)\n",
    "        positive=x>=0\n",
    "        negative=~positive\n",
    "        out[positive]=1/(1+torch.exp(-x[positive]))\n",
    "        exp_x=torch.exp(x[negative])\n",
    "        out[negative]=exp_x/(1+exp_x)\n",
    "        return out\n"
   ]
  },
  {
   "cell_type": "code",
   "execution_count": 45,
   "id": "bc1c840a",
   "metadata": {},
   "outputs": [],
   "source": [
    "class TanH(nn.Module):\n",
    "    def __init__(self):\n",
    "        super().__init__()\n",
    "    \n",
    "    def forward(self,x):\n",
    "        out=torch.empty_like(x)\n",
    "        positive=x>=0\n",
    "        negative=~positive\n",
    "        out[positive]=1-(2/(torch.exp(2*x[positive])+1))\n",
    "        out[negative]=(2/(torch.exp(-2*x[negative])+1))-1\n",
    "        return out"
   ]
  },
  {
   "cell_type": "code",
   "execution_count": 46,
   "id": "d2298dcc",
   "metadata": {},
   "outputs": [],
   "source": [
    "class RNN(nn.Module):\n",
    "    def __init__(self,fan_in,fan_out,bias=True):\n",
    "        super().__init__()\n",
    "        self.input_size=fan_in\n",
    "        self.hidden_size=fan_out\n",
    "        self.i2h=Linear(fan_in,fan_out,bias)         #input ----> hidden\n",
    "        self.h2h=Linear(fan_out,fan_out,bias)        #hidden ---> hidden\n",
    "        self.activation=TanH()\n",
    "    \n",
    "    def forward(self, x, h0=None):\n",
    "        \"\"\"\n",
    "        x: (seq_len, batch_size, input_size)\n",
    "        h0: (batch_size, hidden_size)\n",
    "        \"\"\"\n",
    "\n",
    "        seq_len, batch_size,_=x.shape\n",
    "        \n",
    "        if h0 is None:\n",
    "            h_t=torch.zeros(batch_size, self.hidden_size,device=x.device)\n",
    "        else:\n",
    "            h_t=h0\n",
    "        \n",
    "        outputs=[]\n",
    "        for t in range(seq_len):\n",
    "            x_t=x[t]            #(batch_size,input_size)\n",
    "            # (batch_size,input_size)  @ (input_size,hidden_size) ----> (batch_size,hidden_size)\n",
    "            # (batch_size,hidden_size)  @ (hidden_size,hidden_size) ----> (batch_size,hidden_size)\n",
    "            h_t=self.activation(self.i2h(x_t)+self.h2h(h_t)) # (batch_size,hidden_size) + (batch_size,hidden_size)\n",
    "            outputs.append(torch.unsqueeze(h_t,dim=0))                  #(batch_size,input_size) ----> (1,batch_size,input_size)\n",
    "        \n",
    "        out=torch.cat(outputs,dim=0) #concatenating all the (1,batch_size,input_size) into (seq_len,batch,input_size)\n",
    "        return  out,h_t.unsqueeze(0)"
   ]
  },
  {
   "attachments": {
    "image.png": {
     "image/png": "[encoded data removed]"
    }
   },
   "cell_type": "markdown",
   "id": "745fe98a",
   "metadata": {},
   "source": [
    "![image.png](attachment:image.png)"
   ]
  },
  {
   "cell_type": "markdown",
   "id": "99796004",
   "metadata": {},
   "source": [
    "if this is a character level model it is using the last 5 characters taking  3 dimensional input for each charcter and processing in 2 batches //ly"
   ]
  },
  {
   "attachments": {
    "image.png": {
     "image/png": "[encoded data removed]"
    }
   },
   "cell_type": "markdown",
   "id": "532f1dbd",
   "metadata": {},
   "source": [
    "![image.png](attachment:image.png)"
   ]
  },
  {
   "cell_type": "code",
   "execution_count": 47,
   "id": "569cf584",
   "metadata": {},
   "outputs": [
    {
     "name": "stdout",
     "output_type": "stream",
     "text": [
      "<class '__main__.RNN'>\n",
      "torch.Size([5, 3, 8])\n",
      "torch.Size([1, 3, 8])\n"
     ]
    }
   ],
   "source": [
    "seq_len, batch_size, input_size, hidden_size = 5, 3, 10, 8\n",
    "x = torch.randn(seq_len, batch_size, input_size)\n",
    "\n",
    "rnn = RNN(input_size, hidden_size)\n",
    "out, hn = rnn(x)\n",
    "#torch.nn.RNN()\n",
    "print(RNN)\n",
    "print(out.shape)  # torch.Size([5, 3, 8])\n",
    "print(hn.shape)   # torch.Size([1, 3, 8])"
   ]
  },
  {
   "cell_type": "code",
   "execution_count": 48,
   "id": "dbde2344",
   "metadata": {},
   "outputs": [
    {
     "name": "stdout",
     "output_type": "stream",
     "text": [
      "Stable: tensor([-1.,  0.,  1.])\n"
     ]
    }
   ],
   "source": [
    "x = torch.tensor([-1000.0, 0.0, 1000.0])\n",
    "l=TanH()\n",
    "print(\"Stable:\", l(x)) "
   ]
  },
  {
   "cell_type": "code",
   "execution_count": 49,
   "id": "01726db9",
   "metadata": {},
   "outputs": [
    {
     "name": "stdout",
     "output_type": "stream",
     "text": [
      "Stable: tensor([0.0000, 0.5000, 1.0000])\n"
     ]
    }
   ],
   "source": [
    "x = torch.tensor([-1000.0, 0.0, 1000.0])\n",
    "k=Sigmoid()\n",
    "print(\"Stable:\", k(x)) "
   ]
  },
  {
   "cell_type": "code",
   "execution_count": 50,
   "id": "226b8d66",
   "metadata": {
    "ExecuteTime": {
     "end_time": "2025-07-29T15:16:51.818971Z",
     "start_time": "2025-07-29T15:16:51.812407Z"
    }
   },
   "outputs": [
    {
     "name": "stdout",
     "output_type": "stream",
     "text": [
      "<class '__main__.Linear'>\n",
      "torch.Size([4, 4])\n",
      "torch.Size([4, 3])\n",
      "False\n"
     ]
    }
   ],
   "source": [
    "q=Linear(3,4)\n",
    "print(type(q))\n",
    "m=q.to(device=device)\n",
    "x=torch.randn((4,3)).to(device=device)\n",
    "print(m(x).shape)\n",
    "print(x.shape)\n",
    "print(isinstance(q, nn.Linear))\n"
   ]
  },
  {
   "cell_type": "code",
   "execution_count": 51,
   "id": "4692720644b12535",
   "metadata": {
    "ExecuteTime": {
     "end_time": "2025-07-29T15:16:51.864580Z",
     "start_time": "2025-07-29T15:16:51.862563Z"
    }
   },
   "outputs": [
    {
     "name": "stdout",
     "output_type": "stream",
     "text": [
      "tensor([[-1.6006,  0.4150,  1.7004, -0.9061]])\n",
      "tensor([[0.0000, 0.4150, 1.7004, 0.0000]])\n",
      "same as tensor([[0.0000, 0.4150, 1.7004, 0.0000]])\n"
     ]
    }
   ],
   "source": [
    "a=torch.randn((1,4))\n",
    "print(a)\n",
    "a[a<0]=0\n",
    "print(a)\n",
    "print('same as',a.clamp_(min=0.0))\n"
   ]
  },
  {
   "cell_type": "code",
   "execution_count": 52,
   "id": "f6d1b74e",
   "metadata": {},
   "outputs": [
    {
     "name": "stdout",
     "output_type": "stream",
     "text": [
      "tensor([[-0.5056, -1.1735,  1.0867,  0.9159]], device='cuda:0') tensor([[0.0000, 0.0000, 1.0867, 0.9159]], device='cuda:0')\n",
      "tensor([[0.0000, 0.0000, 1.0867, 0.9159]], device='cuda:0') tensor([[-0.5056, -1.1735,  1.0867,  0.9159]], device='cuda:0')\n"
     ]
    }
   ],
   "source": [
    "a=torch.randn((1,4)).to(device)\n",
    "print(a,torch.relu(a))\n",
    "k=ReLu().to(device)\n",
    "print(k(a),a)"
   ]
  },
  {
   "cell_type": "code",
   "execution_count": 53,
   "id": "a0376b35",
   "metadata": {},
   "outputs": [
    {
     "name": "stdout",
     "output_type": "stream",
     "text": [
      "tensor([-2.,  0.,  3.])\n",
      "tensor([0., 3.])\n"
     ]
    }
   ],
   "source": [
    "x = torch.tensor([-2.0, 0.0, 3.0])\n",
    "positive = x >= 0\n",
    "print(x)\n",
    "print(x[positive])\n"
   ]
  },
  {
   "cell_type": "code",
   "execution_count": 54,
   "id": "5b74cdd7",
   "metadata": {},
   "outputs": [],
   "source": [
    "class Softmax(nn.Module):\n",
    "    def __init__(self, dim=-1):\n",
    "        super().__init__()\n",
    "        self.dim = dim  # dimension over which to apply softmax\n",
    "\n",
    "    def forward(self, x):\n",
    "        # Numerical stability: subtract max value along dim before exponentiating\n",
    "        x_max, _ = torch.max(x, dim=self.dim, keepdim=True)\n",
    "        x_exp = torch.exp(x - x_max)\n",
    "        out = x_exp / torch.sum(x_exp, dim=self.dim, keepdim=True)\n",
    "        return out\n"
   ]
  },
  {
   "cell_type": "code",
   "execution_count": 55,
   "id": "d357900d",
   "metadata": {},
   "outputs": [
    {
     "name": "stdout",
     "output_type": "stream",
     "text": [
      "Input to Softmax:\n",
      " tensor([[1.0000, 2.0000, 3.0000],\n",
      "        [0.5000, 0.2000, 0.3000]])\n",
      "Softmax output:\n",
      " tensor([[0.0900, 0.2447, 0.6652],\n",
      "        [0.3907, 0.2894, 0.3199]])\n",
      "Sum along dim=1 (should be 1):\n",
      " tensor([1.0000, 1.0000])\n"
     ]
    }
   ],
   "source": [
    "\n",
    "# ==== Test Softmax ====\n",
    "softmax = Softmax(dim=1)\n",
    "x = torch.tensor([[1.0, 2.0, 3.0],\n",
    "                    [0.5, 0.2, 0.3]])\n",
    "print(\"Input to Softmax:\\n\", x)\n",
    "print(\"Softmax output:\\n\", softmax(x))\n",
    "print(\"Sum along dim=1 (should be 1):\\n\", softmax(x).sum(dim=1))"
   ]
  },
  {
   "cell_type": "code",
   "execution_count": 56,
   "id": "da84410d",
   "metadata": {},
   "outputs": [],
   "source": [
    "class Dropout(nn.Module):\n",
    "    def __init__(self, p=0.5, inplace=False):\n",
    "        super().__init__()\n",
    "        if p < 0 or p > 1:\n",
    "            raise ValueError(\"Dropout probability must be between 0 and 1.\")\n",
    "        self.p = p  # probability of dropping a unit\n",
    "        self.inplace = inplace\n",
    "\n",
    "    def forward(self, x):\n",
    "        if not self.training or self.p == 0.0:\n",
    "            return x\n",
    "\n",
    "        # Create a mask: 1 for keep, 0 for drop\n",
    "        mask = (torch.rand_like(x) > self.p).float()\n",
    "\n",
    "        if self.inplace:\n",
    "            x.mul_(mask).div_(1 - self.p)  # scale to keep expected value\n",
    "            out = x\n",
    "        else:\n",
    "            out = (x * mask) / (1 - self.p)\n",
    "\n",
    "        return out"
   ]
  },
  {
   "cell_type": "code",
   "execution_count": 57,
   "id": "e743cd0c",
   "metadata": {},
   "outputs": [
    {
     "name": "stdout",
     "output_type": "stream",
     "text": [
      "\n",
      "Input to Dropout:\n",
      " tensor([[1., 1., 1., 1., 1.],\n",
      "        [1., 1., 1., 1., 1.],\n",
      "        [1., 1., 1., 1., 1.],\n",
      "        [1., 1., 1., 1., 1.],\n",
      "        [1., 1., 1., 1., 1.]])\n",
      "Dropout output (train mode):\n",
      " tensor([[1.4286, 1.4286, 1.4286, 1.4286, 0.0000],\n",
      "        [1.4286, 1.4286, 1.4286, 0.0000, 1.4286],\n",
      "        [1.4286, 1.4286, 1.4286, 1.4286, 1.4286],\n",
      "        [0.0000, 1.4286, 1.4286, 1.4286, 0.0000],\n",
      "        [1.4286, 0.0000, 0.0000, 1.4286, 0.0000]])\n",
      "\n",
      "Dropout output (eval mode - should be unchanged):\n",
      " tensor([[1., 1., 1., 1., 1.],\n",
      "        [1., 1., 1., 1., 1.],\n",
      "        [1., 1., 1., 1., 1.],\n",
      "        [1., 1., 1., 1., 1.],\n",
      "        [1., 1., 1., 1., 1.]])\n"
     ]
    }
   ],
   "source": [
    "# ==== Test Dropout ====\n",
    "dropout = Dropout(p=0.3)\n",
    "dropout.train()  # enable dropout mode\n",
    "\n",
    "y = torch.ones((5, 5))\n",
    "print(\"\\nInput to Dropout:\\n\", y)\n",
    "print(\"Dropout output (train mode):\\n\", dropout(y))\n",
    "\n",
    "dropout.eval()  # disable dropout\n",
    "print(\"\\nDropout output (eval mode - should be unchanged):\\n\", dropout(y))"
   ]
  },
  {
   "cell_type": "code",
   "execution_count": 58,
   "id": "44c86a0d",
   "metadata": {},
   "outputs": [],
   "source": [
    "class Flatten(nn.Module):\n",
    "    def __init__(self, start_dim=1, end_dim=-1):\n",
    "        super().__init__()\n",
    "        self.start_dim = start_dim\n",
    "        self.end_dim = end_dim\n",
    "\n",
    "    def forward(self, x):\n",
    "        nd = x.dim()  # number of dimensions\n",
    "\n",
    "        # Normalize possibly-negative dims\n",
    "        start = self.start_dim if self.start_dim >= 0 else nd + self.start_dim\n",
    "        end   = self.end_dim   if self.end_dim   >= 0 else nd + self.end_dim\n",
    "\n",
    "        if not (0 <= start < nd) or not (0 <= end < nd):\n",
    "            raise ValueError(f\"start_dim/end_dim out of range for input with dim {nd}\")\n",
    "        if start > end:\n",
    "            raise ValueError(\"start_dim must be <= end_dim\")\n",
    "\n",
    "        new_shape = x.shape[:start] + (-1,) + (() if end == nd - 1 else x.shape[end+1:])\n",
    "        \n",
    "        return x.reshape(new_shape)"
   ]
  },
  {
   "cell_type": "code",
   "execution_count": 59,
   "id": "40f748f2",
   "metadata": {},
   "outputs": [
    {
     "name": "stdout",
     "output_type": "stream",
     "text": [
      "\n",
      "Flatten test:\n",
      "Before flatten: torch.Size([2, 3, 4, 5])\n",
      "After flatten: torch.Size([2, 60])\n",
      "Partial flatten (dims 2-3): torch.Size([2, 3, 20])\n"
     ]
    }
   ],
   "source": [
    "# ==== Test Flatten ====\n",
    "flatten = Flatten()\n",
    "z = torch.randn(2, 3, 4, 5)  # shape: (2, 3, 4, 5)\n",
    "print(\"\\nFlatten test:\")\n",
    "print(\"Before flatten:\", z.shape)\n",
    "z_flat = flatten(z)\n",
    "print(\"After flatten:\", z_flat.shape)\n",
    "\n",
    "# Custom flatten range\n",
    "flatten_partial = Flatten(start_dim=2, end_dim=3)\n",
    "z_partial = flatten_partial(z)\n",
    "print(\"Partial flatten (dims 2-3):\", z_partial.shape)"
   ]
  },
  {
   "cell_type": "code",
   "execution_count": 60,
   "id": "ec42474a",
   "metadata": {},
   "outputs": [
    {
     "data": {
      "text/plain": [
       "tensor([[1., 1., 1., 1., 1.],\n",
       "        [1., 1., 1., 1., 1.],\n",
       "        [0., 1., 1., 1., 0.],\n",
       "        [0., 1., 1., 1., 1.],\n",
       "        [1., 1., 1., 1., 0.]])"
      ]
     },
     "execution_count": 60,
     "metadata": {},
     "output_type": "execute_result"
    }
   ],
   "source": [
    "p=0.1\n",
    "x= torch.ones((5, 5))\n",
    "mask = (torch.rand_like(x) > p).float()\n",
    "mask"
   ]
  },
  {
   "cell_type": "code",
   "execution_count": 61,
   "id": "b94fb78a",
   "metadata": {},
   "outputs": [],
   "source": [
    "class Head(nn.Module):\n",
    "    '''a single self attention head'''\n",
    "\n",
    "    def __init__(self, n_embd, head_size,bias=False):\n",
    "        super().__init__()\n",
    "        self.key=Linear(n_embd,head_size,bias)\n",
    "        self.query=Linear(n_embd,head_size,bias)\n",
    "        self.value=Linear(n_embd,head_size,bias)\n",
    "        self.register_buffer('tril',torch.tril(torch.ones(block_size,block_size)))\n",
    "        self.dropout=Dropout()\n",
    "        self.softmax=Softmax(dim=-1)\n",
    "\n",
    "    def forward(self,x):\n",
    "\n",
    "        B,T,C=x.shape\n",
    "        k=self.key(x)       # (B,T,hs)\n",
    "        q=self.query(x)     # (B,T,hs)\n",
    "        \n",
    "        # compute attention scores (\"affinities\")\n",
    "        wei= q @ k.transpose(-2,-1)*C**(-0.5)                               #(B,T,C) @ (B,C,T) --------> (B,T,T)\n",
    "        wei = wei.masked_fill(self.tril[:T,:T] == 0, float('-inf'))         #(B,T,T)\n",
    "        wei=self.softmax(wei)                                        #(B,T,T)\n",
    "        wei=self.dropout(wei)\n",
    "        \n",
    "        # perform the weighted aggregation of the values\n",
    "        v=self.value(x)\n",
    "        out=wei @ v\n",
    "        print(out.shape)\n",
    "        return out,wei\n",
    "\n"
   ]
  },
  {
   "cell_type": "code",
   "execution_count": 62,
   "id": "1bd16e3d",
   "metadata": {},
   "outputs": [
    {
     "name": "stdout",
     "output_type": "stream",
     "text": [
      "torch.Size([4, 8, 16])\n",
      "Input shape (x): torch.Size([4, 8, 64])\n",
      "Output shape (out): torch.Size([4, 8, 16])\n",
      "Attention weights shape (wei): torch.Size([4, 8, 8])\n"
     ]
    }
   ],
   "source": [
    "n_embd = 64        # Embedding dimension (input size for the linear layers)\n",
    "head_size = 16     # Head size (output size for the linear layers)\n",
    "block_size = 8     # Sequence length\n",
    "batch_size = 4     # Number of sequences in the batch\n",
    "\n",
    "head = Head(n_embd, head_size)\n",
    "\n",
    "# Create a random input tensor\n",
    "x = torch.randn(batch_size, block_size, n_embd)\n",
    "\n",
    "# Forward pass\n",
    "out, wei = head(x)\n",
    "\n",
    "# Print the shapes\n",
    "print(f\"Input shape (x): {x.shape}\")\n",
    "print(f\"Output shape (out): {out.shape}\")\n",
    "print(f\"Attention weights shape (wei): {wei.shape}\")"
   ]
  },
  {
   "cell_type": "code",
   "execution_count": null,
   "id": "f7c9ec20",
   "metadata": {},
   "outputs": [],
   "source": []
  }
 ],
 "metadata": {
  "kernelspec": {
   "display_name": "Python 3",
   "language": "python",
   "name": "python3"
  },
  "language_info": {
   "codemirror_mode": {
    "name": "ipython",
    "version": 3
   },
   "file_extension": ".py",
   "mimetype": "text/x-python",
   "name": "python",
   "nbconvert_exporter": "python",
   "pygments_lexer": "ipython3",
   "version": "3.12.5"
  }
 },
 "nbformat": 4,
 "nbformat_minor": 5
}
