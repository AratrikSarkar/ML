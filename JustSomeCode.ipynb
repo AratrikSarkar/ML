{
 "cells": [
  {
   "cell_type": "code",
   "id": "fe3127d1",
   "metadata": {
    "ExecuteTime": {
     "end_time": "2025-07-29T14:59:58.102877Z",
     "start_time": "2025-07-29T14:59:58.098007Z"
    }
   },
   "source": [
    "with open(\"AeCa.txt\",'r',encoding='UTF-8') as f:\n",
    "    text=f.read()"
   ],
   "outputs": [],
   "execution_count": 48
  },
  {
   "cell_type": "code",
   "id": "cc199cc5",
   "metadata": {
    "ExecuteTime": {
     "end_time": "2025-07-29T14:59:58.131038Z",
     "start_time": "2025-07-29T14:59:58.125017Z"
    }
   },
   "source": [
    "print(\"Length of the dataset of characters: \",len(text))                                          #Total Length of the text file"
   ],
   "outputs": [
    {
     "name": "stdout",
     "output_type": "stream",
     "text": [
      "Length of the dataset of characters:  1591049\n"
     ]
    }
   ],
   "execution_count": 49
  },
  {
   "cell_type": "code",
   "id": "5479fd29",
   "metadata": {
    "ExecuteTime": {
     "end_time": "2025-07-29T14:59:58.182093Z",
     "start_time": "2025-07-29T14:59:58.164034Z"
    }
   },
   "source": [
    "chars=sorted(list(set(text)))                                #Total number of different characters in the DNA sequence\n",
    "vocab_size=len(chars)\n",
    "print(chars,vocab_size)"
   ],
   "outputs": [
    {
     "name": "stdout",
     "output_type": "stream",
     "text": [
      "['A', 'C', 'G', 'T'] 4\n"
     ]
    }
   ],
   "execution_count": 50
  },
  {
   "cell_type": "code",
   "id": "f0b12e8e",
   "metadata": {
    "ExecuteTime": {
     "end_time": "2025-07-29T14:59:58.221667Z",
     "start_time": "2025-07-29T14:59:58.216164Z"
    }
   },
   "source": [
    "stoi={s:i for i,s in enumerate(chars)}\n",
    "itos={i:s for i,s in enumerate(stoi)}\n",
    "stoi,itos"
   ],
   "outputs": [
    {
     "data": {
      "text/plain": [
       "({'A': 0, 'C': 1, 'G': 2, 'T': 3}, {0: 'A', 1: 'C', 2: 'G', 3: 'T'})"
      ]
     },
     "execution_count": 51,
     "metadata": {},
     "output_type": "execute_result"
    }
   ],
   "execution_count": 51
  },
  {
   "cell_type": "code",
   "id": "a46dd5da",
   "metadata": {
    "ExecuteTime": {
     "end_time": "2025-07-29T14:59:58.259653Z",
     "start_time": "2025-07-29T14:59:58.253749Z"
    }
   },
   "source": [
    "encode=lambda word:[stoi[s] for s in word]\n",
    "decode=lambda num: ''.join([itos[i] for i in num])\n",
    "\n",
    "d_en=encode(\"GTTA\")\n",
    "d_de=decode(d_en)\n",
    "print(d_en,d_de)"
   ],
   "outputs": [
    {
     "name": "stdout",
     "output_type": "stream",
     "text": [
      "[2, 3, 3, 0] GTTA\n"
     ]
    }
   ],
   "execution_count": 52
  },
  {
   "cell_type": "code",
   "id": "b51d2ce2",
   "metadata": {
    "ExecuteTime": {
     "end_time": "2025-07-29T14:59:58.291639Z",
     "start_time": "2025-07-29T14:59:58.287134Z"
    }
   },
   "source": [
    "import torch"
   ],
   "outputs": [],
   "execution_count": 53
  },
  {
   "cell_type": "code",
   "id": "02b0eb3a",
   "metadata": {
    "ExecuteTime": {
     "end_time": "2025-07-29T14:59:58.476656Z",
     "start_time": "2025-07-29T14:59:58.314945Z"
    }
   },
   "source": [
    "data=torch.tensor(encode(text),dtype=torch.long)\n",
    "print(data.shape,data.dtype)"
   ],
   "outputs": [
    {
     "name": "stdout",
     "output_type": "stream",
     "text": [
      "torch.Size([1591049]) torch.int64\n"
     ]
    }
   ],
   "execution_count": 54
  },
  {
   "cell_type": "code",
   "id": "08e95ebd",
   "metadata": {
    "ExecuteTime": {
     "end_time": "2025-07-29T14:59:58.506810Z",
     "start_time": "2025-07-29T14:59:58.502325Z"
    }
   },
   "source": [
    "l=int(0.8*data.shape[0])\n",
    "h=int(0.9*data.shape[0])\n",
    "train_data=data[:l]\n",
    "val_data=data[l:h]\n",
    "test_data=data[h:]\n",
    "print(train_data.shape,val_data.shape,test_data.shape)"
   ],
   "outputs": [
    {
     "name": "stdout",
     "output_type": "stream",
     "text": [
      "torch.Size([1272839]) torch.Size([159105]) torch.Size([159105])\n"
     ]
    }
   ],
   "execution_count": 55
  },
  {
   "cell_type": "code",
   "id": "94956747",
   "metadata": {
    "ExecuteTime": {
     "end_time": "2025-07-29T14:59:58.540511Z",
     "start_time": "2025-07-29T14:59:58.535512Z"
    }
   },
   "source": [
    "block_size=8\n",
    "train_data[:block_size+1]"
   ],
   "outputs": [
    {
     "data": {
      "text/plain": [
       "tensor([2, 1, 1, 2, 1, 1, 1, 1, 1])"
      ]
     },
     "execution_count": 56,
     "metadata": {},
     "output_type": "execute_result"
    }
   ],
   "execution_count": 56
  },
  {
   "cell_type": "code",
   "id": "8fc8cb99",
   "metadata": {
    "ExecuteTime": {
     "end_time": "2025-07-29T14:59:58.572912Z",
     "start_time": "2025-07-29T14:59:58.567148Z"
    }
   },
   "source": [
    "x=train_data[:block_size]\n",
    "y=train_data[1:block_size+1]\n",
    "for t in range (block_size):\n",
    "    context=x[:t+1]\n",
    "    target=y[t]\n",
    "    print(f\"In the context of {context} the target is {target}\")"
   ],
   "outputs": [
    {
     "name": "stdout",
     "output_type": "stream",
     "text": [
      "In the context of tensor([2]) the target is 1\n",
      "In the context of tensor([2, 1]) the target is 1\n",
      "In the context of tensor([2, 1, 1]) the target is 2\n",
      "In the context of tensor([2, 1, 1, 2]) the target is 1\n",
      "In the context of tensor([2, 1, 1, 2, 1]) the target is 1\n",
      "In the context of tensor([2, 1, 1, 2, 1, 1]) the target is 1\n",
      "In the context of tensor([2, 1, 1, 2, 1, 1, 1]) the target is 1\n",
      "In the context of tensor([2, 1, 1, 2, 1, 1, 1, 1]) the target is 1\n"
     ]
    }
   ],
   "execution_count": 57
  },
  {
   "cell_type": "code",
   "id": "8606ada2",
   "metadata": {
    "ExecuteTime": {
     "end_time": "2025-07-29T14:59:58.604153Z",
     "start_time": "2025-07-29T14:59:58.599490Z"
    }
   },
   "source": [
    "import torch.nn as nn"
   ],
   "outputs": [],
   "execution_count": 58
  },
  {
   "cell_type": "code",
   "id": "956974e7",
   "metadata": {
    "ExecuteTime": {
     "end_time": "2025-07-29T14:59:58.626249Z",
     "start_time": "2025-07-29T14:59:58.621035Z"
    }
   },
   "source": [
    "class Linear(nn.Module):\n",
    "    def __init__(self,fan_in,fan_out,bias=False):\n",
    "        super().__init__()\n",
    "        self.W=torch.randn((fan_out,fan_in))\n",
    "        self.b=torch.randn(fan_out) if bias==True else 0\n",
    "    \n",
    "    def forward(self, x):\n",
    "        #print(self.W.shape)\n",
    "        return x @ self.W.T + self.b\n"
   ],
   "outputs": [],
   "execution_count": 59
  },
  {
   "cell_type": "code",
   "id": "226b8d66",
   "metadata": {
    "ExecuteTime": {
     "end_time": "2025-07-29T15:00:21.224728Z",
     "start_time": "2025-07-29T15:00:21.216288Z"
    }
   },
   "source": [
    "q=Linear(3,4)\n",
    "x=torch.randn((4,3))\n",
    "print(x.shape)\n",
    "q(x)\n"
   ],
   "outputs": [
    {
     "name": "stdout",
     "output_type": "stream",
     "text": [
      "torch.Size([4, 3])\n",
      "torch.Size([4, 3])\n"
     ]
    },
    {
     "data": {
      "text/plain": [
       "tensor([[-0.6594, -0.3398,  0.5017, -0.5270],\n",
       "        [ 1.1055, -0.0576, -0.2546,  0.3698],\n",
       "        [ 1.3453,  1.1977, -1.0826,  3.2578],\n",
       "        [ 2.4306,  0.1036, -0.3579,  2.7908]])"
      ]
     },
     "execution_count": 61,
     "metadata": {},
     "output_type": "execute_result"
    }
   ],
   "execution_count": 61
  },
  {
   "metadata": {},
   "cell_type": "code",
   "outputs": [],
   "execution_count": null,
   "source": "",
   "id": "4692720644b12535"
  }
 ],
 "metadata": {
  "kernelspec": {
   "display_name": "Python 3",
   "language": "python",
   "name": "python3"
  },
  "language_info": {
   "codemirror_mode": {
    "name": "ipython",
    "version": 3
   },
   "file_extension": ".py",
   "mimetype": "text/x-python",
   "name": "python",
   "nbconvert_exporter": "python",
   "pygments_lexer": "ipython3",
   "version": "3.12.5"
  }
 },
 "nbformat": 4,
 "nbformat_minor": 5
}
