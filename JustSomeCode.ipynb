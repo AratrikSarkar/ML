{
 "cells": [
  {
   "cell_type": "code",
   "id": "fe3127d1",
   "metadata": {
    "ExecuteTime": {
     "end_time": "2025-07-29T14:31:56.908918Z",
     "start_time": "2025-07-29T14:31:56.900899Z"
    }
   },
   "source": [
    "with open(\"AeCa.txt\",'r',encoding='UTF-8') as f:\n",
    "    text=f.read()"
   ],
   "outputs": [],
   "execution_count": 3
  },
  {
   "cell_type": "code",
   "id": "cc199cc5",
   "metadata": {
    "ExecuteTime": {
     "end_time": "2025-07-29T14:31:56.942712Z",
     "start_time": "2025-07-29T14:31:56.936683Z"
    }
   },
   "source": [
    "print(\"Length of the dataset of characters: \",len(text))                                          #Total Length of the text file"
   ],
   "outputs": [
    {
     "name": "stdout",
     "output_type": "stream",
     "text": [
      "Length of the dataset of characters:  1591049\n"
     ]
    }
   ],
   "execution_count": 4
  },
  {
   "cell_type": "code",
   "id": "5479fd29",
   "metadata": {
    "ExecuteTime": {
     "end_time": "2025-07-29T14:31:56.996692Z",
     "start_time": "2025-07-29T14:31:56.979630Z"
    }
   },
   "source": [
    "chars=sorted(list(set(text)))                                #Total number of different characters in the DNA sequence\n",
    "vocab_size=len(chars)\n",
    "print(chars,vocab_size)"
   ],
   "outputs": [
    {
     "name": "stdout",
     "output_type": "stream",
     "text": [
      "['A', 'C', 'G', 'T'] 4\n"
     ]
    }
   ],
   "execution_count": 5
  },
  {
   "cell_type": "code",
   "id": "f0b12e8e",
   "metadata": {
    "ExecuteTime": {
     "end_time": "2025-07-29T14:31:57.081460Z",
     "start_time": "2025-07-29T14:31:57.065063Z"
    }
   },
   "source": [
    "stoi={s:i for i,s in enumerate(chars)}\n",
    "itos={i:s for i,s in enumerate(stoi)}\n",
    "stoi,itos"
   ],
   "outputs": [
    {
     "data": {
      "text/plain": [
       "({'A': 0, 'C': 1, 'G': 2, 'T': 3}, {0: 'A', 1: 'C', 2: 'G', 3: 'T'})"
      ]
     },
     "execution_count": 6,
     "metadata": {},
     "output_type": "execute_result"
    }
   ],
   "execution_count": 6
  },
  {
   "cell_type": "code",
   "id": "a46dd5da",
   "metadata": {
    "ExecuteTime": {
     "end_time": "2025-07-29T14:31:57.155271Z",
     "start_time": "2025-07-29T14:31:57.147752Z"
    }
   },
   "source": [
    "encode=lambda word:[stoi[s] for s in word]\n",
    "decode=lambda num: ''.join([itos[i] for i in num])\n",
    "\n",
    "d_en=encode(\"GTTA\")\n",
    "d_de=decode(d_en)\n",
    "print(d_en,d_de)"
   ],
   "outputs": [
    {
     "name": "stdout",
     "output_type": "stream",
     "text": [
      "[2, 3, 3, 0] GTTA\n"
     ]
    }
   ],
   "execution_count": 7
  },
  {
   "cell_type": "code",
   "id": "b51d2ce2",
   "metadata": {
    "ExecuteTime": {
     "end_time": "2025-07-29T14:32:02.700103Z",
     "start_time": "2025-07-29T14:31:57.239710Z"
    }
   },
   "source": [
    "import torch"
   ],
   "outputs": [],
   "execution_count": 8
  },
  {
   "cell_type": "code",
   "id": "02b0eb3a",
   "metadata": {
    "ExecuteTime": {
     "end_time": "2025-07-29T14:32:03.138933Z",
     "start_time": "2025-07-29T14:32:02.724951Z"
    }
   },
   "source": [
    "data=torch.tensor(encode(text),dtype=torch.long)\n",
    "print(data.shape,data.dtype)"
   ],
   "outputs": [
    {
     "name": "stdout",
     "output_type": "stream",
     "text": [
      "torch.Size([1591049]) torch.int64\n"
     ]
    }
   ],
   "execution_count": 9
  },
  {
   "cell_type": "code",
   "id": "08e95ebd",
   "metadata": {
    "ExecuteTime": {
     "end_time": "2025-07-29T14:32:03.204108Z",
     "start_time": "2025-07-29T14:32:03.192061Z"
    }
   },
   "source": [
    "l=int(0.8*data.shape[0])\n",
    "h=int(0.9*data.shape[0])\n",
    "train_data=data[:l]\n",
    "val_data=data[l:h]\n",
    "test_data=data[h:]\n",
    "print(train_data.shape,val_data.shape,test_data.shape)"
   ],
   "outputs": [
    {
     "name": "stdout",
     "output_type": "stream",
     "text": [
      "torch.Size([1272839]) torch.Size([159105]) torch.Size([159105])\n"
     ]
    }
   ],
   "execution_count": 10
  },
  {
   "cell_type": "code",
   "id": "94956747",
   "metadata": {
    "ExecuteTime": {
     "end_time": "2025-07-29T14:32:03.262462Z",
     "start_time": "2025-07-29T14:32:03.253251Z"
    }
   },
   "source": [
    "block_size=8\n",
    "train_data[:block_size+1]"
   ],
   "outputs": [
    {
     "data": {
      "text/plain": [
       "tensor([2, 1, 1, 2, 1, 1, 1, 1, 1])"
      ]
     },
     "execution_count": 11,
     "metadata": {},
     "output_type": "execute_result"
    }
   ],
   "execution_count": 11
  },
  {
   "cell_type": "code",
   "id": "8fc8cb99",
   "metadata": {
    "ExecuteTime": {
     "end_time": "2025-07-29T14:32:03.329584Z",
     "start_time": "2025-07-29T14:32:03.308418Z"
    }
   },
   "source": [
    "x=train_data[:block_size]\n",
    "y=train_data[1:block_size+1]\n",
    "for t in range (block_size):\n",
    "    context=x[:t+1]\n",
    "    target=y[t]\n",
    "    print(f\"In the context of {context} the target is {target}\")"
   ],
   "outputs": [
    {
     "name": "stdout",
     "output_type": "stream",
     "text": [
      "In the context of tensor([2]) the target is 1\n",
      "In the context of tensor([2, 1]) the target is 1\n",
      "In the context of tensor([2, 1, 1]) the target is 2\n",
      "In the context of tensor([2, 1, 1, 2]) the target is 1\n",
      "In the context of tensor([2, 1, 1, 2, 1]) the target is 1\n",
      "In the context of tensor([2, 1, 1, 2, 1, 1]) the target is 1\n",
      "In the context of tensor([2, 1, 1, 2, 1, 1, 1]) the target is 1\n",
      "In the context of tensor([2, 1, 1, 2, 1, 1, 1, 1]) the target is 1\n"
     ]
    }
   ],
   "execution_count": 12
  },
  {
   "cell_type": "code",
   "id": "8606ada2",
   "metadata": {
    "ExecuteTime": {
     "end_time": "2025-07-29T14:32:03.396145Z",
     "start_time": "2025-07-29T14:32:03.381744Z"
    }
   },
   "source": [
    "import torch.nn as nn"
   ],
   "outputs": [],
   "execution_count": 13
  },
  {
   "cell_type": "code",
   "id": "956974e7",
   "metadata": {
    "ExecuteTime": {
     "end_time": "2025-07-29T14:32:03.450502Z",
     "start_time": "2025-07-29T14:32:03.431691Z"
    }
   },
   "source": [
    "class Linear(nn.Module):\n",
    "    def __init__(self,fan_in,fan_out,bias=False):\n",
    "        super().__init__()\n",
    "        self.W=torch.randn((fan_out,fan_in))\n",
    "        self.b=torch.randn(fan_out) if bias==True else 0\n",
    "    \n",
    "    def forward(self, x):\n",
    "        print(self.W.shape)\n",
    "        return self.W @ x + self.b\n"
   ],
   "outputs": [],
   "execution_count": 14
  },
  {
   "cell_type": "code",
   "id": "226b8d66",
   "metadata": {
    "ExecuteTime": {
     "end_time": "2025-07-29T14:32:03.519137Z",
     "start_time": "2025-07-29T14:32:03.476211Z"
    }
   },
   "source": [
    "q=Linear(2,3,bias=False)\n",
    "x=torch.randn((2,3))\n",
    "print(x.shape)\n",
    "q(x)"
   ],
   "outputs": [
    {
     "name": "stdout",
     "output_type": "stream",
     "text": [
      "torch.Size([2, 3])\n",
      "torch.Size([3, 2])\n"
     ]
    },
    {
     "data": {
      "text/plain": [
       "tensor([[-0.3880, -0.0675,  0.8665],\n",
       "        [-0.4321,  0.1132,  0.8109],\n",
       "        [-0.0778, -0.0153,  0.1752]])"
      ]
     },
     "execution_count": 15,
     "metadata": {},
     "output_type": "execute_result"
    }
   ],
   "execution_count": 15
  },
  {
   "cell_type": "code",
   "id": "9dc76a8d",
   "metadata": {
    "ExecuteTime": {
     "end_time": "2025-07-29T14:32:03.586912Z",
     "start_time": "2025-07-29T14:32:03.580887Z"
    }
   },
   "source": [],
   "outputs": [],
   "execution_count": null
  },
  {
   "cell_type": "code",
   "id": "72417ce6",
   "metadata": {
    "ExecuteTime": {
     "end_time": "2025-07-29T14:32:47.220627Z",
     "start_time": "2025-07-29T14:32:47.216465Z"
    }
   },
   "source": [],
   "outputs": [],
   "execution_count": null
  }
 ],
 "metadata": {
  "kernelspec": {
   "display_name": "Python 3",
   "language": "python",
   "name": "python3"
  },
  "language_info": {
   "codemirror_mode": {
    "name": "ipython",
    "version": 3
   },
   "file_extension": ".py",
   "mimetype": "text/x-python",
   "name": "python",
   "nbconvert_exporter": "python",
   "pygments_lexer": "ipython3",
   "version": "3.12.5"
  }
 },
 "nbformat": 4,
 "nbformat_minor": 5
}
