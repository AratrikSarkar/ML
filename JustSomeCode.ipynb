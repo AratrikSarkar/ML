{
 "cells": [
  {
   "cell_type": "code",
   "execution_count": 71,
   "id": "70d8782b",
   "metadata": {},
   "outputs": [],
   "source": [
    "import torch\n",
    "import torch.nn as nn\n",
    "device = 'cuda' if torch.cuda.is_available() else 'cpu'"
   ]
  },
  {
   "cell_type": "code",
   "execution_count": 72,
   "id": "fe3127d1",
   "metadata": {
    "ExecuteTime": {
     "end_time": "2025-07-29T15:16:51.402497Z",
     "start_time": "2025-07-29T15:16:51.397497Z"
    }
   },
   "outputs": [],
   "source": [
    "with open(\"AeCa.txt\",'r',encoding='UTF-8') as f:\n",
    "    text=f.read()\n",
    "f.close()"
   ]
  },
  {
   "cell_type": "code",
   "execution_count": 73,
   "id": "cc199cc5",
   "metadata": {
    "ExecuteTime": {
     "end_time": "2025-07-29T15:16:51.417542Z",
     "start_time": "2025-07-29T15:16:51.413502Z"
    }
   },
   "outputs": [
    {
     "name": "stdout",
     "output_type": "stream",
     "text": [
      "Length of the dataset of characters:  1591049\n"
     ]
    }
   ],
   "source": [
    "print(\"Length of the dataset of characters: \",len(text))                                          #Total Length of the text file"
   ]
  },
  {
   "cell_type": "code",
   "execution_count": 74,
   "id": "5479fd29",
   "metadata": {
    "ExecuteTime": {
     "end_time": "2025-07-29T15:16:51.460373Z",
     "start_time": "2025-07-29T15:16:51.442339Z"
    }
   },
   "outputs": [
    {
     "name": "stdout",
     "output_type": "stream",
     "text": [
      "['A', 'C', 'G', 'T'] 4\n"
     ]
    }
   ],
   "source": [
    "chars=sorted(list(set(text)))                                #Total number of different characters in the DNA sequence\n",
    "vocab_size=len(chars)\n",
    "print(chars,vocab_size)"
   ]
  },
  {
   "cell_type": "code",
   "execution_count": 75,
   "id": "f0b12e8e",
   "metadata": {
    "ExecuteTime": {
     "end_time": "2025-07-29T15:16:51.474549Z",
     "start_time": "2025-07-29T15:16:51.470531Z"
    }
   },
   "outputs": [
    {
     "data": {
      "text/plain": [
       "({'A': 0, 'C': 1, 'G': 2, 'T': 3}, {0: 'A', 1: 'C', 2: 'G', 3: 'T'})"
      ]
     },
     "execution_count": 75,
     "metadata": {},
     "output_type": "execute_result"
    }
   ],
   "source": [
    "stoi={s:i for i,s in enumerate(chars)}\n",
    "itos={i:s for i,s in enumerate(stoi)}\n",
    "stoi,itos"
   ]
  },
  {
   "cell_type": "code",
   "execution_count": 76,
   "id": "a46dd5da",
   "metadata": {
    "ExecuteTime": {
     "end_time": "2025-07-29T15:16:51.498887Z",
     "start_time": "2025-07-29T15:16:51.495678Z"
    }
   },
   "outputs": [
    {
     "name": "stdout",
     "output_type": "stream",
     "text": [
      "[2, 3, 3, 0] GTTA\n"
     ]
    }
   ],
   "source": [
    "encode=lambda word:[stoi[s] for s in word]\n",
    "decode=lambda num: ''.join([itos[i] for i in num])\n",
    "\n",
    "d_en=encode(\"GTTA\")\n",
    "d_de=decode(d_en)\n",
    "print(d_en,d_de)"
   ]
  },
  {
   "cell_type": "code",
   "execution_count": 77,
   "id": "02b0eb3a",
   "metadata": {
    "ExecuteTime": {
     "end_time": "2025-07-29T15:16:51.669136Z",
     "start_time": "2025-07-29T15:16:51.530421Z"
    }
   },
   "outputs": [
    {
     "name": "stdout",
     "output_type": "stream",
     "text": [
      "torch.Size([1591049]) torch.int64\n"
     ]
    }
   ],
   "source": [
    "data=torch.tensor(encode(text),dtype=torch.long)\n",
    "print(data.shape,data.dtype)"
   ]
  },
  {
   "cell_type": "code",
   "execution_count": 78,
   "id": "08e95ebd",
   "metadata": {
    "ExecuteTime": {
     "end_time": "2025-07-29T15:16:51.683261Z",
     "start_time": "2025-07-29T15:16:51.679215Z"
    }
   },
   "outputs": [
    {
     "name": "stdout",
     "output_type": "stream",
     "text": [
      "torch.Size([1272839]) torch.Size([159105]) torch.Size([159105])\n"
     ]
    }
   ],
   "source": [
    "l=int(0.8*data.shape[0])\n",
    "h=int(0.9*data.shape[0])\n",
    "train_data=data[:l]\n",
    "val_data=data[l:h]\n",
    "test_data=data[h:]\n",
    "print(train_data.shape,val_data.shape,test_data.shape)"
   ]
  },
  {
   "cell_type": "code",
   "execution_count": 79,
   "id": "94956747",
   "metadata": {
    "ExecuteTime": {
     "end_time": "2025-07-29T15:16:51.705307Z",
     "start_time": "2025-07-29T15:16:51.702118Z"
    }
   },
   "outputs": [
    {
     "data": {
      "text/plain": [
       "tensor([2, 1, 1, 2, 1, 1, 1, 1, 1])"
      ]
     },
     "execution_count": 79,
     "metadata": {},
     "output_type": "execute_result"
    }
   ],
   "source": [
    "block_size=8\n",
    "train_data[:block_size+1]"
   ]
  },
  {
   "cell_type": "code",
   "execution_count": 80,
   "id": "8fc8cb99",
   "metadata": {
    "ExecuteTime": {
     "end_time": "2025-07-29T15:16:51.752540Z",
     "start_time": "2025-07-29T15:16:51.748534Z"
    }
   },
   "outputs": [
    {
     "name": "stdout",
     "output_type": "stream",
     "text": [
      "In the context of tensor([2]) the target is 1\n",
      "In the context of tensor([2, 1]) the target is 1\n",
      "In the context of tensor([2, 1, 1]) the target is 2\n",
      "In the context of tensor([2, 1, 1, 2]) the target is 1\n",
      "In the context of tensor([2, 1, 1, 2, 1]) the target is 1\n",
      "In the context of tensor([2, 1, 1, 2, 1, 1]) the target is 1\n",
      "In the context of tensor([2, 1, 1, 2, 1, 1, 1]) the target is 1\n",
      "In the context of tensor([2, 1, 1, 2, 1, 1, 1, 1]) the target is 1\n"
     ]
    }
   ],
   "source": [
    "x=train_data[:block_size]\n",
    "y=train_data[1:block_size+1]\n",
    "for t in range (block_size):\n",
    "    context=x[:t+1]\n",
    "    target=y[t]\n",
    "    print(f\"In the context of {context} the target is {target}\")"
   ]
  },
  {
   "cell_type": "code",
   "execution_count": null,
   "id": "8606ada2",
   "metadata": {
    "ExecuteTime": {
     "end_time": "2025-07-29T15:16:51.773422Z",
     "start_time": "2025-07-29T15:16:51.770552Z"
    }
   },
   "outputs": [],
   "source": []
  },
  {
   "cell_type": "code",
   "execution_count": 81,
   "id": "956974e7",
   "metadata": {
    "ExecuteTime": {
     "end_time": "2025-07-29T15:16:51.796757Z",
     "start_time": "2025-07-29T15:16:51.793251Z"
    }
   },
   "outputs": [],
   "source": [
    "class Linear(nn.Module):\n",
    "    def __init__(self,fan_in,fan_out,bias=False):\n",
    "        super().__init__()\n",
    "        self.W=torch.randn((fan_out,fan_in))\n",
    "        self.b=torch.randn(fan_out) if bias==True else 0\n",
    "    \n",
    "    def forward(self, x):\n",
    "        print(self.W.shape)\n",
    "        return x @ self.W.T + self.b\n"
   ]
  },
  {
   "cell_type": "code",
   "execution_count": null,
   "id": "f2f3773a",
   "metadata": {},
   "outputs": [],
   "source": []
  },
  {
   "cell_type": "code",
   "execution_count": 82,
   "id": "226b8d66",
   "metadata": {
    "ExecuteTime": {
     "end_time": "2025-07-29T15:16:51.818971Z",
     "start_time": "2025-07-29T15:16:51.812407Z"
    }
   },
   "outputs": [
    {
     "name": "stdout",
     "output_type": "stream",
     "text": [
      "torch.Size([4, 3])\n",
      "torch.Size([4, 3])\n"
     ]
    },
    {
     "data": {
      "text/plain": [
       "tensor([[ 3.0036,  1.0796, -0.3468,  3.5597],\n",
       "        [-0.5837, -0.0877,  1.4347, -0.4944],\n",
       "        [ 0.8059,  0.1586,  1.1426,  0.4320],\n",
       "        [ 2.2956,  1.4729,  0.2619,  4.5416]])"
      ]
     },
     "execution_count": 82,
     "metadata": {},
     "output_type": "execute_result"
    }
   ],
   "source": [
    "q=Linear(3,4)\n",
    "m=q.to(device)\n",
    "x=torch.randn((4,3))\n",
    "print(x.shape)\n",
    "m(x)\n"
   ]
  },
  {
   "cell_type": "code",
   "execution_count": null,
   "id": "4692720644b12535",
   "metadata": {
    "ExecuteTime": {
     "end_time": "2025-07-29T15:16:51.864580Z",
     "start_time": "2025-07-29T15:16:51.862563Z"
    }
   },
   "outputs": [],
   "source": []
  }
 ],
 "metadata": {
  "kernelspec": {
   "display_name": "Python 3",
   "language": "python",
   "name": "python3"
  },
  "language_info": {
   "codemirror_mode": {
    "name": "ipython",
    "version": 3
   },
   "file_extension": ".py",
   "mimetype": "text/x-python",
   "name": "python",
   "nbconvert_exporter": "python",
   "pygments_lexer": "ipython3",
   "version": "3.12.5"
  }
 },
 "nbformat": 4,
 "nbformat_minor": 5
}
